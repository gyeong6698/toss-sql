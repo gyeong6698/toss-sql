{
 "cells": [
  {
   "cell_type": "markdown",
   "id": "87e47585-2824-4ad4-90e8-8ccb860f576e",
   "metadata": {},
   "source": [
    "# DB연동\n",
    "\n",
    "- DB연동하는 것은 에러가 없어야 함\n",
    "- 해당 코드는 무조건 돌아가게끔 만들어야 함\n",
    "- MYSQL에 문제가 생김\n",
    "    + 대처방안 : try-catch 구문"
   ]
  },
  {
   "cell_type": "markdown",
   "id": "81f4c6e4-8b33-468f-8f77-895ecbc72aa8",
   "metadata": {},
   "source": [
    "numerator = 10\n",
    "denominator = 0\n",
    "\n",
    "result = numerator / denominator\n",
    "\n",
    "#하고 싶은 것은 어떻게든 결과 확인 출력 "
   ]
  },
  {
   "cell_type": "code",
   "execution_count": 8,
   "id": "03bf3a80-d80d-4e55-9a43-c82b4a35004a",
   "metadata": {},
   "outputs": [
    {
     "name": "stdin",
     "output_type": "stream",
     "text": [
      "숫자를 입력하세요!! dd\n"
     ]
    },
    {
     "name": "stdout",
     "output_type": "stream",
     "text": [
      "invalid literal for int() with\n",
      "결과확인\n"
     ]
    }
   ],
   "source": [
    "# 어떤 경우에도 결과확인이라는 코드가 무조건 출력되게끔 만들고 싶을 때 try-catch 구문 사용\n",
    "try : \n",
    "    numerator = 10\n",
    "    denominat=int(input(\"숫자를 입력하세요!!\"))\n",
    "    result = numerator / denominator\n",
    "except ZeroDivisionError:\n",
    "    print(\"Error: 0으로 나눌 수 없음\")\n",
    "except ValueError:\n",
    "    print(\"invalid literal for int() with\")\n",
    "else:\n",
    "    print(\"결과확인 : \", result)\n",
    "finally:\n",
    "    print(\"결과확인\")"
   ]
  },
  {
   "cell_type": "code",
   "execution_count": null,
   "id": "10420e6e-034d-45fb-8126-39d75e99237f",
   "metadata": {},
   "outputs": [],
   "source": []
  }
 ],
 "metadata": {
  "kernelspec": {
   "display_name": "Python 3 (ipykernel)",
   "language": "python",
   "name": "python3"
  },
  "language_info": {
   "codemirror_mode": {
    "name": "ipython",
    "version": 3
   },
   "file_extension": ".py",
   "mimetype": "text/x-python",
   "name": "python",
   "nbconvert_exporter": "python",
   "pygments_lexer": "ipython3",
   "version": "3.11.7"
  }
 },
 "nbformat": 4,
 "nbformat_minor": 5
}

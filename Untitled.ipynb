{
 "cells": [
  {
   "cell_type": "code",
   "execution_count": 6,
   "id": "51560843-43af-4b23-88b5-54485f263257",
   "metadata": {},
   "outputs": [],
   "source": [
    "from mysql import connector\n",
    "import os\n",
    "PASSWORD = '1234'"
   ]
  },
  {
   "cell_type": "markdown",
   "id": "54a1e410-1f62-483f-b1de-f03caad06f65",
   "metadata": {},
   "source": [
    "- 기초문법 중급레벨\n",
    "- with vs python decorator"
   ]
  },
  {
   "cell_type": "code",
   "execution_count": 9,
   "id": "170420e9-f691-4c5a-8a8c-99bb5df2514f",
   "metadata": {},
   "outputs": [
    {
     "name": "stdout",
     "output_type": "stream",
     "text": [
      "Database 객체 : <mysql.connector.connection_cext.CMySQLConnection object at 0x000002C1E1006B90>\n"
     ]
    }
   ],
   "source": [
    "## Step 1. sql 연결\n",
    "try:\n",
    "    with connector.connect(\n",
    "        host = 'localhost',\n",
    "        user = 'root',\n",
    "        password = PASSWORD\n",
    "    ) as database:\n",
    "        print(f\"Database 객체 : {database}\")\n",
    "except connector.Error as e:\n",
    "    print(e)"
   ]
  },
  {
   "cell_type": "markdown",
   "id": "18402b25-87e5-4a21-9154-a291b76f5674",
   "metadata": {},
   "source": [
    "## Step 2. New DB Creation"
   ]
  },
  {
   "cell_type": "code",
   "execution_count": 15,
   "id": "0d6ca424-ffa6-4dd8-8e62-1810435d6c79",
   "metadata": {},
   "outputs": [
    {
     "name": "stdout",
     "output_type": "stream",
     "text": [
      "Database 객체 : <mysql.connector.connection_cext.CMySQLConnection object at 0x000002C1E1225A90>\n",
      "('book_ratings',)\n",
      "('classicmodels',)\n",
      "('datasets',)\n",
      "('information_schema',)\n",
      "('instacart',)\n",
      "('mydata',)\n",
      "('mydata2',)\n",
      "('mysql',)\n",
      "('performance_schema',)\n",
      "('sakila',)\n",
      "('sys',)\n",
      "('testdb',)\n",
      "('titanic',)\n",
      "('world',)\n"
     ]
    }
   ],
   "source": [
    "try:\n",
    "    with connector.connect(\n",
    "        host = 'localhost',\n",
    "        user = 'root',\n",
    "        password = PASSWORD\n",
    "    ) as database:\n",
    "        print(f\"Database 객체 : {database}\")\n",
    "        \n",
    "        with database.cursor() as cursor: # 항상 execute 위에 두기 #with절 : 연결 객체를 자동으로 받아줌 # with 절 쓰는 이유 : 쿼리절 닫아주려고,, ? \n",
    "            \n",
    "        #쿼리문 작성 #create는 한번 코드 돌리면 주석처리하기 - > 이미 creation 완료돼서 또 코드 run하면 already exists 오류남. \n",
    "            # create_db = \"CREATE DATABASE book_ratings;\" \n",
    "            # cursor.execute(create_db)\n",
    "\n",
    "            #생성된 DB 확인하는 쿼리문 다시 쓰기 \n",
    "            show_existing_db = \"SHOW DATABASES;\"\n",
    "            cursor.execute(show_existing_db)\n",
    "            for db in cursor:\n",
    "                print(db)\n",
    "            \n",
    "except connector.Error as e:\n",
    "    print(e)"
   ]
  },
  {
   "cell_type": "code",
   "execution_count": 18,
   "id": "0b03c915-f5bd-4432-aa72-f5106d7a4755",
   "metadata": {},
   "outputs": [
    {
     "name": "stdout",
     "output_type": "stream",
     "text": [
      "Database 객체 : <mysql.connector.connection_cext.CMySQLConnection object at 0x000002C1E1B1B050>\n",
      "1007 (HY000): Can't create database 'book_ratings'; database exists\n"
     ]
    }
   ],
   "source": [
    "try:\n",
    "    with connector.connect(\n",
    "        host = 'localhost', \n",
    "        user = 'root', \n",
    "        password = PASSWORD\n",
    "    ) as database:\n",
    "        print(f\"Database 객체 : {database}\")\n",
    "        \n",
    "        with database.cursor() as cursor:\n",
    "            # 쿼리문 작성\n",
    "            create_db = \"CREATE DATABASE book_ratings;\"\n",
    "            cursor.execute(create_db)\n",
    "\n",
    "            # 생성된 DB 확인 쿼리문 쓰기\n",
    "            show_existing_db = \"SHOW DATABASES;\"\n",
    "            cursor.execute(show_existing_db)\n",
    "            for db in cursor:\n",
    "                print(db)\n",
    "\n",
    "except connector.Error as e:\n",
    "    print(e)"
   ]
  },
  {
   "cell_type": "markdown",
   "id": "49e0595f-002a-44c4-a21c-05f26645c51b",
   "metadata": {},
   "source": [
    "- 특정 DB(예; book_ratings)에 직접 연결하려면 아래 코드 "
   ]
  },
  {
   "cell_type": "code",
   "execution_count": 21,
   "id": "77c2ac4f-0986-41ec-a041-44dd45267c4c",
   "metadata": {},
   "outputs": [
    {
     "name": "stdout",
     "output_type": "stream",
     "text": [
      "Database 객체 : <mysql.connector.connection_cext.CMySQLConnection object at 0x000002C1E1B17850>\n"
     ]
    }
   ],
   "source": [
    "try:\n",
    "    with connector.connect(\n",
    "        host = 'localhost',\n",
    "        user = 'root',\n",
    "        password = PASSWORD,\n",
    "        database = \"book_ratings\" #기존 코드와의 차이점 \n",
    "    ) as database:\n",
    "        print(f\"Database 객체 : {database}\")\n",
    "except connector.Error as e:\n",
    "    print(e)"
   ]
  },
  {
   "cell_type": "markdown",
   "id": "afc052d1-dac7-4869-bf2f-99afda7e9976",
   "metadata": {},
   "source": [
    "# Step 3. Table Creation"
   ]
  },
  {
   "cell_type": "code",
   "execution_count": 23,
   "id": "c9ac86ad-2916-4e60-9423-393ed7453d16",
   "metadata": {},
   "outputs": [
    {
     "name": "stdout",
     "output_type": "stream",
     "text": [
      "Database 객체 : <mysql.connector.connection_cext.CMySQLConnection object at 0x000002C1E1B182D0>\n",
      "('id', 'int', 'NO', 'PRI', None, 'auto_increment')\n",
      "('title', 'varchar(100)', 'YES', '', None, '')\n",
      "('author', 'varchar(100)', 'YES', '', None, '')\n",
      "('genre', 'varchar(100)', 'YES', '', None, '')\n",
      "('release_year', 'year', 'YES', '', None, '')\n"
     ]
    }
   ],
   "source": [
    "create_books_table = \"\"\"\n",
    "    create table books(\n",
    "    \tid INT NOT NULL AUTO_INCREMENT PRIMARY KEY,\n",
    "        title VARCHAR(100), \n",
    "        author VARCHAR(100), \n",
    "        genre VARCHAR(100), \n",
    "        release_year YEAR(4)\n",
    "    );\n",
    "\"\"\"\n",
    "\n",
    "try:\n",
    "    with connector.connect(\n",
    "        host = 'localhost',\n",
    "        user = 'root',\n",
    "        password = PASSWORD,\n",
    "        database = \"book_ratings\" #기존 코드와의 차이점 \n",
    "    ) as database:\n",
    "        print(f\"Database 객체 : {database}\")\n",
    "\n",
    "        # cursor object 접근 후, 위 쿼리 실행\n",
    "        with database.cursor() as cursor:\n",
    "            cursor.execute(create_books_table)\n",
    "            database.commit()\n",
    "\n",
    "            #테이블 확인 DESCRIBE\n",
    "            describe_books = \"DESCRIBE books;\"\n",
    "            cursor.execute(describe_books)\n",
    "            book_schema = cursor.fetchall()\n",
    "            for column in book_schema:\n",
    "                print(column)\n",
    "except connector.Error as e:\n",
    "    print(e)"
   ]
  },
  {
   "cell_type": "code",
   "execution_count": null,
   "id": "5347ea28-1247-48fd-a173-751027a9de9d",
   "metadata": {},
   "outputs": [],
   "source": [
    "insert_single_record = \"INSERT INTO books (id, title, author, genre, release_year)\\\n",
    "    VALUES (%s, %s, %s, %s, %s)\"\n",
    "single_record = (\n",
    "    \"1\", \"Choose Yourself! Be Happy, Make Millions, Live the Dream\", \"James Altucher\", \"self-help\", \"2013\"\n",
    "    )"
   ]
  },
  {
   "cell_type": "code",
   "execution_count": 1,
   "id": "762cafd0-2ca6-4280-8ac4-20bd966778b2",
   "metadata": {},
   "outputs": [
    {
     "ename": "NameError",
     "evalue": "name 'connector' is not defined",
     "output_type": "error",
     "traceback": [
      "\u001b[1;31m---------------------------------------------------------------------------\u001b[0m",
      "\u001b[1;31mNameError\u001b[0m                                 Traceback (most recent call last)",
      "Cell \u001b[1;32mIn[1], line 2\u001b[0m\n\u001b[0;32m      1\u001b[0m \u001b[38;5;28;01mtry\u001b[39;00m:\n\u001b[1;32m----> 2\u001b[0m     \u001b[38;5;28;01mwith\u001b[39;00m \u001b[43mconnector\u001b[49m\u001b[38;5;241m.\u001b[39mconnect(\n\u001b[0;32m      3\u001b[0m         host \u001b[38;5;241m=\u001b[39m \u001b[38;5;124m'\u001b[39m\u001b[38;5;124mlocalhost\u001b[39m\u001b[38;5;124m'\u001b[39m, \n\u001b[0;32m      4\u001b[0m         user \u001b[38;5;241m=\u001b[39m \u001b[38;5;124m'\u001b[39m\u001b[38;5;124mroot\u001b[39m\u001b[38;5;124m'\u001b[39m, \n\u001b[0;32m      5\u001b[0m         password \u001b[38;5;241m=\u001b[39m PASSWORD, \n\u001b[0;32m      6\u001b[0m         database \u001b[38;5;241m=\u001b[39m \u001b[38;5;124m\"\u001b[39m\u001b[38;5;124mbook_ratings\u001b[39m\u001b[38;5;124m\"\u001b[39m \u001b[38;5;66;03m# 이것이 기존 코드와의 차이점\u001b[39;00m\n\u001b[0;32m      7\u001b[0m     ) \u001b[38;5;28;01mas\u001b[39;00m database:\n\u001b[0;32m      8\u001b[0m         \u001b[38;5;28mprint\u001b[39m(\u001b[38;5;124mf\u001b[39m\u001b[38;5;124m\"\u001b[39m\u001b[38;5;124mDatabase 객체 : \u001b[39m\u001b[38;5;132;01m{\u001b[39;00mdatabase\u001b[38;5;132;01m}\u001b[39;00m\u001b[38;5;124m\"\u001b[39m)\n",
      "\u001b[1;31mNameError\u001b[0m: name 'connector' is not defined",
      "\nDuring handling of the above exception, another exception occurred:\n",
      "\u001b[1;31mNameError\u001b[0m                                 Traceback (most recent call last)",
      "Cell \u001b[1;32mIn[1], line 14\u001b[0m\n\u001b[0;32m     12\u001b[0m             cursor\u001b[38;5;241m.\u001b[39mexecute(insert_single_record, single_record)\n\u001b[0;32m     13\u001b[0m             database\u001b[38;5;241m.\u001b[39mcommit()\n\u001b[1;32m---> 14\u001b[0m \u001b[38;5;28;01mexcept\u001b[39;00m \u001b[43mconnector\u001b[49m\u001b[38;5;241m.\u001b[39mError \u001b[38;5;28;01mas\u001b[39;00m e:\n\u001b[0;32m     15\u001b[0m     \u001b[38;5;28mprint\u001b[39m(e)\n",
      "\u001b[1;31mNameError\u001b[0m: name 'connector' is not defined"
     ]
    }
   ],
   "source": [
    "try:\n",
    "    with connector.connect(\n",
    "        host = 'localhost', \n",
    "        user = 'root', \n",
    "        password = PASSWORD, \n",
    "        database = \"book_ratings\" # 이것이 기존 코드와의 차이점\n",
    "    ) as database:\n",
    "        print(f\"Database 객체 : {database}\")\n",
    "\n",
    "        # 커서 생성 후, 쿼리 실행\n",
    "        with database.cursor() as cursor:\n",
    "            cursor.execute(insert_single_record, single_record)\n",
    "            database.commit()\n",
    "except connector.Error as e:\n",
    "    print(e)"
   ]
  },
  {
   "cell_type": "code",
   "execution_count": 2,
   "id": "c90e32d4-cc53-44e9-8841-f23ca4291027",
   "metadata": {},
   "outputs": [],
   "source": [
    "insert_multiple_records = \"INSERT INTO books (id, title, author, genre, release_year)\\\n",
    "    VALUES (%s, %s, %s, %s, %s)\"\n",
    "multiple_records = [\n",
    "    (\n",
    "        \"2\", \n",
    "        \"Skip the Line: The 10,000 Experiments Rule and Other Surprising Advice for Reaching Your Goals\",\n",
    "        \"James Altucher\",\n",
    "        \"self-help\",\n",
    "        \"2021\"        \n",
    "    ),\n",
    "    (\n",
    "        \"3\",\n",
    "        \"The Power of No: Because One Little Word Can Bring Health, Abundance, and Happiness\",\n",
    "        \"James Altucher\",\n",
    "        \"self-help\",\n",
    "        \"2014\"\n",
    "    ),\n",
    "    (\n",
    "        \"4\",\n",
    "        \"The 48 Laws of Power\",\n",
    "        \"Robert Greene\",\n",
    "        \"self-help\",\n",
    "        \"1998\"\n",
    "    ),\n",
    "    (\n",
    "        \"5\",\n",
    "        \"Mastery\",\n",
    "        \"Robert Greene\",\n",
    "        \"self-help\",\n",
    "        \"2012\"\n",
    "    ),\n",
    "    (\n",
    "        \"6\",\n",
    "        \"The Art of Seduction\",\n",
    "        \"Robert Greene\",\n",
    "        \"self-help\",\n",
    "        \"2001\"\n",
    "    ),\n",
    "]"
   ]
  },
  {
   "cell_type": "code",
   "execution_count": 3,
   "id": "cdfb2b27-1e8e-4d1e-b31d-df2bc55b88bf",
   "metadata": {},
   "outputs": [],
   "source": [
    "import pandas as pd\n",
    "\n",
    "def fetch_data_to_dataframe(query, database=None):\n",
    "    try: \n",
    "        with connector.connect(\n",
    "            host=\"localhost\",\n",
    "            user=\"root\",\n",
    "            password=PASSWORD,\n",
    "            database=database\n",
    "        ) as existing_database:\n",
    "            \n",
    "            with existing_database.cursor() as cursor:\n",
    "                cursor.execute(query)\n",
    "                \n",
    "                column_names = [i[0] for i in cursor.description]\n",
    "                \n",
    "                returned_data = cursor.fetchall()\n",
    "                \n",
    "                df = pd.DataFrame(returned_data, columns=column_names)\n",
    "                return df\n",
    "    \n",
    "    except connector.Error as e: \n",
    "        print(e)\n",
    "        return None"
   ]
  },
  {
   "cell_type": "code",
   "execution_count": 4,
   "id": "afb5127c-2a07-4c68-8498-c4604d93e08d",
   "metadata": {},
   "outputs": [],
   "source": [
    "update_query = \"\"\"\n",
    "    UPDATE \n",
    "        books\n",
    "    SET \n",
    "        author = 'Big J'\n",
    "    WHERE \n",
    "        author = 'James Altucher'\n",
    "\"\"\""
   ]
  },
  {
   "cell_type": "code",
   "execution_count": 5,
   "id": "3fd1e3c2-0bfb-4a40-b58c-9febe7a70c8a",
   "metadata": {},
   "outputs": [
    {
     "ename": "NameError",
     "evalue": "name 'connector' is not defined",
     "output_type": "error",
     "traceback": [
      "\u001b[1;31m---------------------------------------------------------------------------\u001b[0m",
      "\u001b[1;31mNameError\u001b[0m                                 Traceback (most recent call last)",
      "Cell \u001b[1;32mIn[5], line 11\u001b[0m\n\u001b[0;32m     10\u001b[0m \u001b[38;5;28;01mtry\u001b[39;00m:\n\u001b[1;32m---> 11\u001b[0m     \u001b[38;5;28;01mwith\u001b[39;00m \u001b[43mconnector\u001b[49m\u001b[38;5;241m.\u001b[39mconnect(\n\u001b[0;32m     12\u001b[0m         host \u001b[38;5;241m=\u001b[39m \u001b[38;5;124m'\u001b[39m\u001b[38;5;124mlocalhost\u001b[39m\u001b[38;5;124m'\u001b[39m, \n\u001b[0;32m     13\u001b[0m         user \u001b[38;5;241m=\u001b[39m \u001b[38;5;124m'\u001b[39m\u001b[38;5;124mroot\u001b[39m\u001b[38;5;124m'\u001b[39m, \n\u001b[0;32m     14\u001b[0m         password \u001b[38;5;241m=\u001b[39m PASSWORD, \n\u001b[0;32m     15\u001b[0m         database \u001b[38;5;241m=\u001b[39m \u001b[38;5;124m\"\u001b[39m\u001b[38;5;124mbook_ratings\u001b[39m\u001b[38;5;124m\"\u001b[39m \u001b[38;5;66;03m# 이것이 기존 코드와의 차이점\u001b[39;00m\n\u001b[0;32m     16\u001b[0m     ) \u001b[38;5;28;01mas\u001b[39;00m database:\n\u001b[0;32m     17\u001b[0m         \u001b[38;5;28mprint\u001b[39m(\u001b[38;5;124mf\u001b[39m\u001b[38;5;124m\"\u001b[39m\u001b[38;5;124mDatabase 객체 : \u001b[39m\u001b[38;5;132;01m{\u001b[39;00mdatabase\u001b[38;5;132;01m}\u001b[39;00m\u001b[38;5;124m\"\u001b[39m)\n",
      "\u001b[1;31mNameError\u001b[0m: name 'connector' is not defined",
      "\nDuring handling of the above exception, another exception occurred:\n",
      "\u001b[1;31mNameError\u001b[0m                                 Traceback (most recent call last)",
      "Cell \u001b[1;32mIn[5], line 30\u001b[0m\n\u001b[0;32m     27\u001b[0m             \u001b[38;5;28;01mfor\u001b[39;00m result \u001b[38;5;129;01min\u001b[39;00m cursor\u001b[38;5;241m.\u001b[39mfetchall():\n\u001b[0;32m     28\u001b[0m                 \u001b[38;5;28mprint\u001b[39m(result)\n\u001b[1;32m---> 30\u001b[0m \u001b[38;5;28;01mexcept\u001b[39;00m \u001b[43mconnector\u001b[49m\u001b[38;5;241m.\u001b[39mError \u001b[38;5;28;01mas\u001b[39;00m e:\n\u001b[0;32m     31\u001b[0m     \u001b[38;5;28mprint\u001b[39m(e)\n",
      "\u001b[1;31mNameError\u001b[0m: name 'connector' is not defined"
     ]
    }
   ],
   "source": [
    "update_query = \"\"\"\n",
    "    UPDATE \n",
    "        books\n",
    "    SET \n",
    "        author = 'Big J'\n",
    "    WHERE \n",
    "        author = 'James Altucher'\n",
    "\"\"\"\n",
    "\n",
    "try:\n",
    "    with connector.connect(\n",
    "        host = 'localhost', \n",
    "        user = 'root', \n",
    "        password = PASSWORD, \n",
    "        database = \"book_ratings\" # 이것이 기존 코드와의 차이점\n",
    "    ) as database:\n",
    "        print(f\"Database 객체 : {database}\")\n",
    "\n",
    "        # 커서 생성 후, 쿼리 실행\n",
    "        with database.cursor() as cursor:\n",
    "            cursor.execute(update_query)\n",
    "            database.commit()\n",
    "\n",
    "            check_query = \"SELECT DISTINCT author FROM books\"\n",
    "            cursor.execute(check_query)\n",
    "\n",
    "            for result in cursor.fetchall():\n",
    "                print(result)\n",
    "            \n",
    "except connector.Error as e:\n",
    "    print(e)"
   ]
  },
  {
   "cell_type": "code",
   "execution_count": 6,
   "id": "46303ce1-8cc5-4f98-8f6c-c86f598fe844",
   "metadata": {},
   "outputs": [
    {
     "ename": "NameError",
     "evalue": "name 'connector' is not defined",
     "output_type": "error",
     "traceback": [
      "\u001b[1;31m---------------------------------------------------------------------------\u001b[0m",
      "\u001b[1;31mNameError\u001b[0m                                 Traceback (most recent call last)",
      "Cell \u001b[1;32mIn[6], line 2\u001b[0m\n\u001b[0;32m      1\u001b[0m \u001b[38;5;28;01mtry\u001b[39;00m:\n\u001b[1;32m----> 2\u001b[0m     \u001b[38;5;28;01mwith\u001b[39;00m \u001b[43mconnector\u001b[49m\u001b[38;5;241m.\u001b[39mconnect(\n\u001b[0;32m      3\u001b[0m         host \u001b[38;5;241m=\u001b[39m \u001b[38;5;124m'\u001b[39m\u001b[38;5;124mlocalhost\u001b[39m\u001b[38;5;124m'\u001b[39m, \n\u001b[0;32m      4\u001b[0m         user \u001b[38;5;241m=\u001b[39m \u001b[38;5;124m'\u001b[39m\u001b[38;5;124mroot\u001b[39m\u001b[38;5;124m'\u001b[39m, \n\u001b[0;32m      5\u001b[0m         password \u001b[38;5;241m=\u001b[39m PASSWORD, \n\u001b[0;32m      6\u001b[0m         database \u001b[38;5;241m=\u001b[39m \u001b[38;5;124m\"\u001b[39m\u001b[38;5;124mbook_ratings\u001b[39m\u001b[38;5;124m\"\u001b[39m \u001b[38;5;66;03m# 이것이 기존 코드와의 차이점\u001b[39;00m\n\u001b[0;32m      7\u001b[0m     ) \u001b[38;5;28;01mas\u001b[39;00m database:\n\u001b[0;32m      8\u001b[0m         \u001b[38;5;28mprint\u001b[39m(\u001b[38;5;124mf\u001b[39m\u001b[38;5;124m\"\u001b[39m\u001b[38;5;124mDatabase 객체 : \u001b[39m\u001b[38;5;132;01m{\u001b[39;00mdatabase\u001b[38;5;132;01m}\u001b[39;00m\u001b[38;5;124m\"\u001b[39m)\n",
      "\u001b[1;31mNameError\u001b[0m: name 'connector' is not defined",
      "\nDuring handling of the above exception, another exception occurred:\n",
      "\u001b[1;31mNameError\u001b[0m                                 Traceback (most recent call last)",
      "Cell \u001b[1;32mIn[6], line 22\u001b[0m\n\u001b[0;32m     19\u001b[0m             \u001b[38;5;28;01mfor\u001b[39;00m result \u001b[38;5;129;01min\u001b[39;00m cursor\u001b[38;5;241m.\u001b[39mfetchall():\n\u001b[0;32m     20\u001b[0m                 \u001b[38;5;28mprint\u001b[39m(result)\n\u001b[1;32m---> 22\u001b[0m \u001b[38;5;28;01mexcept\u001b[39;00m \u001b[43mconnector\u001b[49m\u001b[38;5;241m.\u001b[39mError \u001b[38;5;28;01mas\u001b[39;00m e:\n\u001b[0;32m     23\u001b[0m     \u001b[38;5;28mprint\u001b[39m(e)\n",
      "\u001b[1;31mNameError\u001b[0m: name 'connector' is not defined"
     ]
    }
   ],
   "source": [
    "try:\n",
    "    with connector.connect(\n",
    "        host = 'localhost', \n",
    "        user = 'root', \n",
    "        password = PASSWORD, \n",
    "        database = \"book_ratings\" # 이것이 기존 코드와의 차이점\n",
    "    ) as database:\n",
    "        print(f\"Database 객체 : {database}\")\n",
    "\n",
    "        # 커서 생성 후, 쿼리 실행\n",
    "        with database.cursor() as cursor:\n",
    "\n",
    "            delete_query = \"DELETE FROM books WHERE release_year <= 2010;\"\n",
    "            cursor.execute(delete_query)\n",
    "            database.commit()\n",
    "\n",
    "            check_query = \"SELECT DISTINCT release_year FROM books;\"\n",
    "            cursor.execute(check_query)\n",
    "            for result in cursor.fetchall():\n",
    "                print(result)\n",
    "            \n",
    "except connector.Error as e:\n",
    "    print(e)"
   ]
  },
  {
   "cell_type": "code",
   "execution_count": null,
   "id": "cf56eed9-91e4-4616-99f7-9f8fbe4d48dc",
   "metadata": {},
   "outputs": [],
   "source": []
  }
 ],
 "metadata": {
  "kernelspec": {
   "display_name": "Python 3 (ipykernel)",
   "language": "python",
   "name": "python3"
  },
  "language_info": {
   "codemirror_mode": {
    "name": "ipython",
    "version": 3
   },
   "file_extension": ".py",
   "mimetype": "text/x-python",
   "name": "python",
   "nbconvert_exporter": "python",
   "pygments_lexer": "ipython3",
   "version": "3.11.7"
  }
 },
 "nbformat": 4,
 "nbformat_minor": 5
}
